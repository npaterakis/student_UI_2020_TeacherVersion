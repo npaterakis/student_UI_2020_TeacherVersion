{
 "cells": [
  {
   "cell_type": "markdown",
   "metadata": {
    "collapsed": true,
    "pycharm": {
     "name": "#%% md\n"
    }
   },
   "source": [
    "# Participation of a wind power producer in day-ahead electricity market\n",
    "This notebook provides a simple, yet quite comprehensive, pipeline for preparing bids for a price-taker wind producer participating \n",
    "in the day-ahead electricity market by considering the effects of the imbalance mechanism. \n",
    "\n",
    "The stochastic programming model is based on the following book:\n",
    "> A. J. Conejo, M. Carrión, J. M. Morales, *Decision making under uncertainty in electricity markets*, Springer US, 2010.\n",
    "\n",
    "**What is recommended to change?**\n",
    "\n",
    "Technically, you can modify any parts of the code. Nevertheless, it is recommended that you experiement with the following parts of the pipeline:\n",
    "1. Use different regression models that are readily available in [scikit-learn](https://scikit-learn.org/stable/), feature selection and data processing techniques. As it was mentioned during the introductory lecture, the linear regression model is not necessarily the most suitable one for predicting/generating scenarios for available wind energy. Depending on how fast your computer is, you might as well experiment with other machine learning models (e.g., [Keras](https://keras.io/) is a popular neural network module -- in that case, the [tensorflow](https://www.tensorflow.org/) backend is strongly recommended). \n",
    "3. Modify the risk-aversion factor $\\beta$. \n",
    "4. Change the number of scenarios generated for the available wind energy.\n",
    "5. You can generate a set of non-equiprobable scenarios by reducing the initially generated set of scenarios in terms of, e.g., a clustering approach.\n",
    "5. You can reduce the number of scenarios that are provided for the imbalance prices.\n",
    "\n",
    "**Instructions to prepare a bid for each trading day:**\n",
    "1. Download the most recent data from the game platform \n",
    "2. Update the forecasts/scenario set \n",
    "3. Execute the optimization model \n",
    "4. Upload the .csv file containing the bid quantities for each time period on the platform \n",
    "\n",
    "**Known caveats:**\n",
    "1. The variable $periodsPast$ triggers an error if reduced to less than 144. There is no problem with reducing the number of features by means of a feature selection technique."
   ]
  },
  {
   "cell_type": "markdown",
   "source": [
    "## Available wind energy scenario generation\n"
   ],
   "metadata": {
    "collapsed": false
   }
  },
  {
   "cell_type": "markdown",
   "source": [
    "## Stochastic programming model \n"
   ],
   "metadata": {
    "collapsed": false,
    "pycharm": {
     "name": "#%% md\n"
    }
   }
  },
  {
   "cell_type": "markdown",
   "source": [
    "## Display and save results\n"
   ],
   "metadata": {
    "collapsed": false,
    "pycharm": {
     "name": "#%% md\n"
    }
   }
  }
 ],
 "metadata": {
  "kernelspec": {
   "display_name": "Python 3",
   "language": "python",
   "name": "python3"
  },
  "language_info": {
   "codemirror_mode": {
    "name": "ipython",
    "version": 2
   },
   "file_extension": ".py",
   "mimetype": "text/x-python",
   "name": "python",
   "nbconvert_exporter": "python",
   "pygments_lexer": "ipython2",
   "version": "2.7.6"
  },
  "pycharm": {
   "stem_cell": {
    "cell_type": "raw",
    "source": [],
    "metadata": {
     "collapsed": false
    }
   }
  }
 },
 "nbformat": 4,
 "nbformat_minor": 0
}