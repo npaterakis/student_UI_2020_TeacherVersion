{
 "cells": [
  {
   "cell_type": "markdown",
   "metadata": {
    "collapsed": true,
    "pycharm": {
     "name": "#%% md\n"
    }
   },
   "source": [
    "# Participation of a wind power producer in day-ahead electricity market\n",
    "This notebook provides a simple, yet quite comprehensive, pipeline for preparing bids for a price-taker wind producer participating \n",
    "in the day-ahead electricity market by considering the effects of the imbalance mechanism. \n",
    "\n",
    "The stochastic programming model is based on the following book:\n",
    "> A. J. Conejo, M. Carrión, J. M. Morales, *Decision making under uncertainty in electricity markets*, Springer US, 2010.\n",
    "\n",
    "In the original model day-ahead market prices, imbalance price ratios and available wind energy are all considered to be uncertain variables. For simplicity, in this case we are considering that day-ahead market prices are perfectly known and that imbalance price ratios are given by a fixed set of scenarios for every trading day. Your task is to generate a scenario set for available wind energy for the next trading day. \n",
    "\n",
    "**What is recommended to change?**\n",
    "\n",
    "Technically, you can modify any parts of the code. Nevertheless, it is recommended that you experiement with the following parts of the pipeline:\n",
    "1. Use different regression models that are readily available in [scikit-learn](https://scikit-learn.org/stable/), feature selection and data processing techniques. As it was mentioned during the introductory lecture, the linear regression model is not necessarily the most suitable one for predicting/generating scenarios for available wind energy. Depending on how fast your computer is, you might as well experiment with other machine learning models (e.g., [Keras](https://keras.io/) is a popular neural network module -- in that case, the [tensorflow](https://www.tensorflow.org/) backend is strongly recommended). \n",
    "3. Modify the risk-aversion factor $\\beta$. \n",
    "4. Change the number of scenarios generated for the available wind energy.\n",
    "5. You can generate a set of non-equiprobable scenarios by reducing the initially generated set of scenarios in terms of, e.g., a clustering approach.\n",
    "5. You can reduce the number of scenarios that are provided for the imbalance prices.\n",
    "\n",
    "**Instructions to prepare a bid for each trading day:**\n",
    "1. Download the most recent data from the game platform \n",
    "2. Update the forecasts/scenario set \n",
    "3. Execute the optimization model \n",
    "4. Upload the .csv file containing the bid quantities for each time period on the platform \n",
    "\n",
    "**Known caveats:**\n",
    "1. The variable $periodsPast$ triggers an error if reduced to less than 144. There is no problem with reducing the number of features by means of a feature selection technique."
   ]
  },
  {
   "cell_type": "markdown",
   "metadata": {},
   "source": [
    "## Import packages"
   ]
  },
  {
   "cell_type": "code",
   "execution_count": null,
   "metadata": {},
   "outputs": [],
   "source": [
    "import numpy, pandas\n",
    "import matplotlib.pyplot as plt\n",
    "from sklearn.preprocessing import *\n",
    "from sklearn.metrics import mean_squared_error\n",
    "from scripts.forecastingUtils.foreUtils_2020 import *\n",
    "from scripts.forecastingUtils.foreDisplays_2020 import *\n",
    "from scripts.generalUtils_2020 import *\n",
    "from scripts.optimizationUtils.stochasticProgrammingModel import *\n",
    "from scripts.optimizationUtils.reportingUtils import *\n",
    "from scripts.optimizationUtils.plotUtils import *\n",
    "\n",
    "numpy.random.seed(10)"
   ]
  },
  {
   "cell_type": "markdown",
   "metadata": {},
   "source": [
    "## Available wind energy scenario generation"
   ]
  },
  {
   "cell_type": "markdown",
   "metadata": {},
   "source": [
    "### Basic settings"
   ]
  },
  {
   "cell_type": "markdown",
   "metadata": {},
   "source": [
    "<b>NB</b>: always make sure to change the variable $inputFileName$ to the filename of the latest file available on the platform which should be stored in the \"data\" directory. "
   ]
  },
  {
   "cell_type": "code",
   "execution_count": null,
   "metadata": {
    "pycharm": {
     "name": "#%%\n"
    }
   },
   "outputs": [],
   "source": [
    "inputFileName = 'windSpeed_2020.csv' #latest historical data\n",
    "\n",
    "turbineRatedPower = 2500 # in kW\n",
    "windfarmRatedPower = 25000 #in kW\n",
    "periodsFuture= 144 #a full day\n",
    "periodsPast= 144*3 #how many periods are used \n",
    "daysHistory= 10 #how many days in history\n",
    "numScenarios = 30\n",
    "firstDateTest = '2020-02-09 00:00:00'\n",
    "firstDateTrain = pandas.to_datetime(firstDateTest)-pandas.Timedelta(str(daysHistory)+'D')\n",
    "\n",
    "featureSelection = True\n",
    "plotResidualDiagnostics = False\n",
    "scenarios = numpy.zeros((numScenarios, periodsFuture)) #initialize matrix of scenarios\n",
    "\n",
    "inputDataDir = 'data/'\n",
    "outputDataDir = 'data/'\n",
    "outputDataDir1 = firstDateTest.split(' ')[0]\n",
    "outputFilename = 'wind_'+outputDataDir1+'.csv'"
   ]
  },
  {
   "cell_type": "markdown",
   "metadata": {},
   "source": [
    "### Data preparation"
   ]
  },
  {
   "cell_type": "markdown",
   "metadata": {},
   "source": [
    "<b>NB</b>: data pre-processing (e.g., normalization) should be based on data from the training set. However, in this basic script, the day to be predicted is included in the input file with all its entries as zeros and the whole series is used in order to estimate a standard scaler model. Empirically, it shouldn't affect much the process in this particular setup, but this is something to consider if you are willing to further modify the pipeline (e.g., to perform better model selection or apply cross-validation)."
   ]
  },
  {
   "cell_type": "code",
   "execution_count": null,
   "metadata": {},
   "outputs": [],
   "source": [
    "# Load and scale data\n",
    "wspeed = pandas.read_csv(inputDataDir+inputFileName, index_col=0, parse_dates=True, dayfirst=True)['speed']\n",
    "\n",
    "scaler = StandardScaler()\n",
    "wspeed.loc[:] = scaler.fit_transform(wspeed.values.reshape(-1,1))[:,0]\n",
    "\n",
    "# Create datasets\n",
    "C = createDataSet(wspeed, periodsPast)\n",
    "trainSet, testSet = splitTrainTest(C, firstDateTrain=firstDateTrain, firstDateTest=firstDateTest, value=10, unit='min')\n",
    "trainX, trainY = splitXY(trainSet)\n",
    "testX, testY = splitXY(testSet)\n",
    "print('Train X: ', trainX.shape, 'Train Y: ', trainY.shape,'Test X: ', testX.shape,'Test Y: ', testY.shape)\n",
    "\n",
    "# Feature selection\n",
    "if featureSelection:\n",
    "    print('Starting feature selection!')\n",
    "    mask = feature_selection(trainX, trainY, 'rfe')\n",
    "    trainX = trainX[:,mask]\n",
    "    print('Done feature selection! New feature matrix size: ', trainX.shape)\n",
    "\n",
    "else:\n",
    "    mask = None\n",
    "    print('No feature selection is applied!')"
   ]
  },
  {
   "cell_type": "markdown",
   "metadata": {},
   "source": [
    "### Prediction model"
   ]
  },
  {
   "cell_type": "code",
   "execution_count": null,
   "metadata": {},
   "outputs": [],
   "source": [
    "# Generate prediction model\n",
    "model, res, stdevRes = createPredictionModel(trainX, trainY, method='LR')\n",
    "print('Residual mean: ', numpy.mean(res), 'Residual stdev: ', stdevRes)\n",
    "\n",
    "# Plot diagnostics on residuals\n",
    "if plotResidualDiagnostics:\n",
    "    plot_fit(model.predict(trainX), trainY)\n",
    "    plot_res_autocor(res)\n",
    "    plot_res_hist(res)\n",
    "else:\n",
    "    print('No residual diagnostics are plotted!')\n",
    "\n",
    "# Generate scenarios\n",
    "for j in range(numScenarios):\n",
    "    arrayActual, arrayPredicted = forecastForward(testSet, testX, model, scaler, periodsFuture, stdevRes, mask=mask, testY=testY, positivityRequirement=True)\n",
    "    arrayActual, arrayPredicted = scaler.inverse_transform(arrayActual), scaler.inverse_transform(arrayPredicted)\n",
    "    scenarios[j, :] = arrayPredicted"
   ]
  },
  {
   "cell_type": "markdown",
   "metadata": {},
   "source": [
    "### Visualizations and reporting"
   ]
  },
  {
   "cell_type": "code",
   "execution_count": null,
   "metadata": {},
   "outputs": [],
   "source": [
    "plot_windSpeedScenarios(scenarios, arrayActual)\n",
    "scenariosPower = powerG126(scenarios)\n",
    "actualPower = powerG126(arrayActual.reshape(1,-1))\n",
    "plot_windPowerScenarios(scenariosPower, actualPower)\n",
    "\n",
    "outputDir = createDataDirectory(outputDataDir, outputDataDir1)\n",
    "scenariosPowerDf = pandas.DataFrame(data=(scenariosPower*(windfarmRatedPower/turbineRatedPower))/1000, index=['s'+str(s) for s in range(1, numScenarios+1)], columns=['t'+str(t) for t in range(1, 25)])\n",
    "scenariosPowerDf.to_csv(outputDir+outputFilename)\n",
    "generateScenarioTree(outputDataDir, outputDataDir1)"
   ]
  },
  {
   "cell_type": "markdown",
   "metadata": {
    "pycharm": {
     "name": "#%% md\n"
    }
   },
   "source": [
    "## Stochastic programming model \n"
   ]
  },
  {
   "cell_type": "markdown",
   "metadata": {},
   "source": [
    "<b>NB:</b> Before running the following blocks make sure that you have placed the file containing the day-ahead prices in the directory that was created in the previous step (the name of the directory is the same as the date for which you are bidding)."
   ]
  },
  {
   "cell_type": "code",
   "execution_count": null,
   "metadata": {},
   "outputs": [],
   "source": [
    "folderName = outputDataDir1\n",
    "\n",
    "#--- Define basic I/O data\n",
    "fileDAP = 'data/'+str(folderName)+'/DAP_'+str(folderName)+'.csv'\n",
    "fileImNeg = 'data/'+str(folderName)+'/tree_imNeg_'+str(folderName)+'.csv'\n",
    "fileImPos = 'data/'+str(folderName)+'/tree_imPos_'+str(folderName)+'.csv'\n",
    "fileWind = 'data/'+str(folderName)+'/tree_wind_'+str(folderName)+'.csv'\n",
    "fileProbs = 'data/'+str(folderName)+'/tree_probs_'+str(folderName)+'.csv'\n",
    "\n",
    "outDir = 'data/'+str(folderName)+'/'\n",
    "reportFileName = outDir+'report_'+str(folderName)+'.xlsx'\n",
    "bidFileName = outDir+'bid_'+str(folderName)+'.csv'\n",
    "\n",
    "#--- Load data\n",
    "daP = pandas.read_csv(fileDAP, index_col=0)\n",
    "wind = pandas.read_csv(fileWind, index_col=0)\n",
    "rPlus = pandas.read_csv(fileImPos, index_col=0)\n",
    "rMinus = pandas.read_csv(fileImNeg, index_col=0)\n",
    "probs = pandas.read_csv(fileProbs, index_col=0)"
   ]
  },
  {
   "cell_type": "code",
   "execution_count": null,
   "metadata": {},
   "outputs": [],
   "source": [
    "#--- Execute optimization model\n",
    "a, b = stochasticRisk(daP, wind, rPlus, rMinus, probs, 0.95, 0.9)\n",
    " \n",
    "#--- Report and visualize\n",
    "displayReport(b)\n",
    "saveReport(b, reportFileName, bidFileName)\n",
    "\n",
    "plot_bid(b[1])\n",
    "plot_profit_distribution(b[2], b[0])\n",
    "plot_hourly_imbalance_dists(b[3], b[4], b[5])"
   ]
  },
  {
   "cell_type": "code",
   "execution_count": null,
   "metadata": {},
   "outputs": [],
   "source": []
  }
 ],
 "metadata": {
  "kernelspec": {
   "display_name": "Python 3",
   "language": "python",
   "name": "python3"
  },
  "language_info": {
   "codemirror_mode": {
    "name": "ipython",
    "version": 3
   },
   "file_extension": ".py",
   "mimetype": "text/x-python",
   "name": "python",
   "nbconvert_exporter": "python",
   "pygments_lexer": "ipython3",
   "version": "3.7.4"
  },
  "pycharm": {
   "stem_cell": {
    "cell_type": "raw",
    "metadata": {
     "collapsed": false
    },
    "source": []
   }
  }
 },
 "nbformat": 4,
 "nbformat_minor": 1
}
